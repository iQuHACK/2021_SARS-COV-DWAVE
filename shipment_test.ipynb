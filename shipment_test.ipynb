{
 "cells": [
  {
   "cell_type": "markdown",
   "metadata": {},
   "source": [
    "# DQM Maximization of COVID Vaccine Distribution\n",
    "We applied a DQM solution of the Knapsack problem to the issue of COVID-19 vaccine distribution. Specifically, we focused on how vaccines arriving in the United States would be distributed to individual states. \n",
    "\n",
    "In this model, the federal vaccine distribution center is receiving offers from states to ship a given number of vaccines. The distribution center's goal is to maximize the number of people who receive the vaccine. It must consider the rate of vaccine administration per state as well as the sizes of the shipment offers to put as many vaccines as possible to good use."
   ]
  },
  {
   "cell_type": "markdown",
   "metadata": {},
   "source": [
    "Let' start by importing the tools we need: a shipment mocker to generate some shipment offers, an shipment analyzer to estimate how many administrations will occur, and a knapsack solver to find the optimal solution."
   ]
  },
  {
   "cell_type": "code",
   "execution_count": null,
   "metadata": {},
   "outputs": [],
   "source": [
    "from shipment_mocking import create_mock_shipment\n",
    "from shipment_analysis import estimate_shipment_value\n",
    "from knapsack_solver import KnapsackSolver"
   ]
  },
  {
   "cell_type": "markdown",
   "metadata": {},
   "source": [
    "Next, let's set up some constants for this scenario. Since we aren't in charge of real shipments, we need to generate a number of fake shipment offers and imagine we have a supply of vaccines with which to fulfill them. Since we're dealing with large numbers here, the scaling factor helps make the numbers a bit nicer for computation."
   ]
  },
  {
   "cell_type": "code",
   "execution_count": null,
   "metadata": {},
   "outputs": [],
   "source": [
    "NUM_SHIPMENTS = 10\n",
    "NUM_VACCINE_DOSES = 200_000\n",
    "SCALING_FACTOR = 10_000."
   ]
  },
  {
   "cell_type": "markdown",
   "metadata": {},
   "source": [
    "It's time to create the shipment offers. These are the items of the knapsack problem. The weight is the number of doses to be shipped and the value is the number of doses expected to be administered."
   ]
  },
  {
   "cell_type": "code",
   "execution_count": null,
   "metadata": {},
   "outputs": [],
   "source": [
    "shipments = []\n",
    "\n",
    "for _ in range(NUM_SHIPMENTS):\n",
    "    shipment = create_mock_shipment()\n",
    "    weight = shipment[\"doses\"]\n",
    "    value = estimate_shipment_value(shipment)\n",
    "\n",
    "    shipments.append((shipment, weight, value))\n",
    "    print(f\"Shipment: {shipment}, value: {value}\")"
   ]
  },
  {
   "cell_type": "markdown",
   "metadata": {},
   "source": [
    "Now we have everything we need to set up the knapsack problem. Our solver makes it easy; simply create a new solver and add each item with its weight and value."
   ]
  },
  {
   "cell_type": "code",
   "execution_count": null,
   "metadata": {},
   "outputs": [],
   "source": [
    "knapsack = KnapsackSolver()\n",
    "\n",
    "for shipment, weight, value in shipments:\n",
    "    knapsack.add_item(shipment, weight / SCALING_FACTOR, value / SCALING_FACTOR)"
   ]
  },
  {
   "cell_type": "markdown",
   "metadata": {},
   "source": [
    "To run the DQM solver, you need to configure access to D-Wave's online solvers.  You can create a configuration file using the interactive CLI as described [here](https://docs.ocean.dwavesys.com/en/stable/overview/sapi.html#creating-a-configuration-file).\n",
    "\n",
    "If you want to see the details of the DQM before submitting it to the solver, you can change the last argument to `debug=True`. "
   ]
  },
  {
   "cell_type": "code",
   "execution_count": null,
   "metadata": {},
   "outputs": [],
   "source": [
    "print(\"Solving... \", end=\"\")\n",
    "item_list, total_value, total_weight = knapsack.solve(NUM_VACCINE_DOSES / SCALING_FACTOR, debug=False)\n",
    "print(\"Done.\")"
   ]
  },
  {
   "cell_type": "markdown",
   "metadata": {},
   "source": [
    "Let's take a look at the final solution:"
   ]
  },
  {
   "cell_type": "code",
   "execution_count": null,
   "metadata": {},
   "outputs": [],
   "source": [
    "total_doses = 0\n",
    "for item, quantity in item_list:\n",
    "    print(f\"{quantity} shipment{'s' if quantity != 1 else ''} of {item['doses']} doses delivered to {item['state']}\")\n",
    "    total_doses += item[\"doses\"]\n",
    "\n",
    "print(f\"\\nOut of {NUM_VACCINE_DOSES} doses available, {int(total_weight * SCALING_FACTOR)} delivered, {total_value * SCALING_FACTOR} administered\")"
   ]
  },
  {
   "cell_type": "markdown",
   "metadata": {},
   "source": [
    "Interested in seeing other potential outcomes? Click the Run All Cells button to explore another randomly generated scenario."
   ]
  }
 ],
 "metadata": {
  "kernelspec": {
   "display_name": "Python 3",
   "language": "python",
   "name": "python3"
  },
  "language_info": {
   "codemirror_mode": {
    "name": "ipython",
    "version": 3
   },
   "file_extension": ".py",
   "mimetype": "text/x-python",
   "name": "python",
   "nbconvert_exporter": "python",
   "pygments_lexer": "ipython3",
   "version": "3.8.3"
  }
 },
 "nbformat": 4,
 "nbformat_minor": 5
}
